{
  "nbformat": 4,
  "nbformat_minor": 0,
  "metadata": {
    "colab": {
      "provenance": [],
      "authorship_tag": "ABX9TyOQZ8Lyn9d01POb23TP5N49",
      "include_colab_link": true
    },
    "kernelspec": {
      "name": "python3",
      "display_name": "Python 3"
    },
    "language_info": {
      "name": "python"
    }
  },
  "cells": [
    {
      "cell_type": "markdown",
      "metadata": {
        "id": "view-in-github",
        "colab_type": "text"
      },
      "source": [
        "<a href=\"https://colab.research.google.com/github/DanielffNevez/Games/blob/main/JogodaForca.ipynb\" target=\"_parent\"><img src=\"https://colab.research.google.com/assets/colab-badge.svg\" alt=\"Open In Colab\"/></a>"
      ]
    },
    {
      "cell_type": "code",
      "source": [
        "import random\n",
        "\n",
        "# Lista de palavras possíveis\n",
        "palavras = [\"python\", \"computador\", \"programador\", \"colab\", \"algoritmo\"]\n",
        "\n",
        "# Escolher palavra secreta\n",
        "palavra_secreta = random.choice(palavras)\n",
        "letras_descobertas = [\"_\"] * len(palavra_secreta)\n",
        "tentativas = 6\n",
        "letras_tentadas = []\n",
        "\n",
        "print(\"🎮 Bem-vindo ao Jogo da Forca!\")\n",
        "print(\"Tenta adivinhar a palavra.\")\n",
        "\n",
        "# Loop do jogo\n",
        "while tentativas > 0 and \"_\" in letras_descobertas:\n",
        "    print(\"\\nPalavra: \", \" \".join(letras_descobertas))\n",
        "    print(\"Tentativas restantes:\", tentativas)\n",
        "    print(\"Letras já tentadas:\", \", \".join(letras_tentadas))\n",
        "\n",
        "    palpite = input(\"Diz uma letra: \").lower()\n",
        "\n",
        "    if len(palpite) != 1 or not palpite.isalpha():\n",
        "        print(\"⚠️ Dá apenas uma letra válida.\")\n",
        "        continue\n",
        "\n",
        "    if palpite in letras_tentadas:\n",
        "        print(\"⚠️ Já tentaste essa letra. Tenta outra.\")\n",
        "        continue\n",
        "\n",
        "    letras_tentadas.append(palpite)\n",
        "\n",
        "    if palpite in palavra_secreta:\n",
        "        print(\"✅ Boa! A letra existe na palavra.\")\n",
        "        for i, letra in enumerate(palavra_secreta):\n",
        "            if letra == palpite:\n",
        "                letras_descobertas[i] = palpite\n",
        "    else:\n",
        "        print(\"❌ Essa letra não existe.\")\n",
        "        tentativas -= 1\n",
        "\n",
        "# Fim do jogo\n",
        "if \"_\" not in letras_descobertas:\n",
        "    print(\"\\n🎉 Parabéns! Acertaste a palavra:\", palavra_secreta)\n",
        "else:\n",
        "    print(\"\\n💀 Ficaste sem tentativas! A palavra era:\", palavra_secreta)"
      ],
      "metadata": {
        "colab": {
          "base_uri": "https://localhost:8080/"
        },
        "id": "hPuQH8oDn-9B",
        "outputId": "a272eb35-d719-46fe-9e0b-95a9b73ae51d"
      },
      "execution_count": 18,
      "outputs": [
        {
          "output_type": "stream",
          "name": "stdout",
          "text": [
            "🎮 Bem-vindo ao Jogo da Forca!\n",
            "Tenta adivinhar a palavra.\n",
            "\n",
            "Palavra:  _ _ _ _ _\n",
            "Tentativas restantes: 6\n",
            "Letras já tentadas: \n",
            "Diz uma letra: a\n",
            "✅ Boa! A letra existe na palavra.\n",
            "\n",
            "Palavra:  _ _ _ a _\n",
            "Tentativas restantes: 6\n",
            "Letras já tentadas: a\n",
            "Diz uma letra: p\n",
            "❌ Essa letra não existe.\n",
            "\n",
            "Palavra:  _ _ _ a _\n",
            "Tentativas restantes: 5\n",
            "Letras já tentadas: a, p\n",
            "Diz uma letra: c\n",
            "✅ Boa! A letra existe na palavra.\n",
            "\n",
            "Palavra:  c _ _ a _\n",
            "Tentativas restantes: 5\n",
            "Letras já tentadas: a, p, c\n",
            "Diz uma letra: b\n",
            "✅ Boa! A letra existe na palavra.\n",
            "\n",
            "Palavra:  c _ _ a b\n",
            "Tentativas restantes: 5\n",
            "Letras já tentadas: a, p, c, b\n",
            "Diz uma letra: l\n",
            "✅ Boa! A letra existe na palavra.\n",
            "\n",
            "Palavra:  c _ l a b\n",
            "Tentativas restantes: 5\n",
            "Letras já tentadas: a, p, c, b, l\n",
            "Diz uma letra: o\n",
            "✅ Boa! A letra existe na palavra.\n",
            "\n",
            "🎉 Parabéns! Acertaste a palavra: colab\n"
          ]
        }
      ]
    },
    {
      "cell_type": "code",
      "source": [],
      "metadata": {
        "id": "cOP1FcqNotRz"
      },
      "execution_count": null,
      "outputs": []
    }
  ]
}