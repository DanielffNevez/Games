{
  "nbformat": 4,
  "nbformat_minor": 0,
  "metadata": {
    "colab": {
      "provenance": [],
      "authorship_tag": "ABX9TyM/Pu3y/sjs0BGMiz/QKa95",
      "include_colab_link": true
    },
    "kernelspec": {
      "name": "python3",
      "display_name": "Python 3"
    },
    "language_info": {
      "name": "python"
    }
  },
  "cells": [
    {
      "cell_type": "markdown",
      "metadata": {
        "id": "view-in-github",
        "colab_type": "text"
      },
      "source": [
        "<a href=\"https://colab.research.google.com/github/DanielffNevez/Games/blob/main/JogodeTentativas.ipynb\" target=\"_parent\"><img src=\"https://colab.research.google.com/assets/colab-badge.svg\" alt=\"Open In Colab\"/></a>"
      ]
    },
    {
      "cell_type": "code",
      "execution_count": 1,
      "metadata": {
        "id": "Uu__W44xi2-x"
      },
      "outputs": [],
      "source": [
        "import random"
      ]
    },
    {
      "cell_type": "code",
      "source": [
        "print (\"Bem vindo ao Jogo: Adivinha o Número\")\n",
        "print (\"O computador vai escolher um número entre 1 e 6\")"
      ],
      "metadata": {
        "colab": {
          "base_uri": "https://localhost:8080/"
        },
        "id": "L6x3GiOMjKUC",
        "outputId": "a465769f-7591-43bb-8795-30c6c7a25f28"
      },
      "execution_count": 2,
      "outputs": [
        {
          "output_type": "stream",
          "name": "stdout",
          "text": [
            "Bem vindo ao Jogo: Adivinha o Número\n",
            "O computador vai escolher um número entre 1 e 6\n"
          ]
        }
      ]
    },
    {
      "cell_type": "code",
      "source": [
        "#Computador escolhe um número aleatório\n",
        "numero_secreto = random.randint(1,6)\n",
        "\n",
        "tentativas = 0\n",
        "acertou = False\n",
        "\n",
        "while not acertou:\n",
        "  palpite = int(input(\"Dá o teu palpite, por favor:\"))\n",
        "  tentativas += 1\n",
        "\n",
        "  if palpite < numero_secreto:\n",
        "    print(\"O número secreto é maior\")\n",
        "\n",
        "  elif palpite > numero_secreto:\n",
        "    print(\"O número secreto é menor\")\n",
        "\n",
        "  else:\n",
        "    print(f\"Parabéns! Acertaste em {tentativas} tentativas\")\n",
        "    acertou = True"
      ],
      "metadata": {
        "colab": {
          "base_uri": "https://localhost:8080/"
        },
        "id": "QVFX4MApjU3y",
        "outputId": "f64a5128-d51f-4e07-bc12-3345e3ccdedd"
      },
      "execution_count": 4,
      "outputs": [
        {
          "output_type": "stream",
          "name": "stdout",
          "text": [
            "Dá o teu palpite, por favor:1\n",
            "O número secreto é maior\n",
            "Dá o teu palpite, por favor:6\n",
            "O número secreto é menor\n",
            "Dá o teu palpite, por favor:5\n",
            "O número secreto é menor\n",
            "Dá o teu palpite, por favor:4\n",
            "Parabéns! Acertaste em 4 tentativas\n"
          ]
        }
      ]
    },
    {
      "cell_type": "code",
      "source": [],
      "metadata": {
        "id": "8ATPFV-UkMDI"
      },
      "execution_count": null,
      "outputs": []
    }
  ]
}